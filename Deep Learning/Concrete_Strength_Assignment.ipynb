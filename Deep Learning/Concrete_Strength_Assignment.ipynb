{
  "nbformat": 4,
  "nbformat_minor": 0,
  "metadata": {
    "kernelspec": {
      "display_name": "Python 3",
      "language": "python",
      "name": "python3"
    },
    "language_info": {
      "codemirror_mode": {
        "name": "ipython",
        "version": 3
      },
      "file_extension": ".py",
      "mimetype": "text/x-python",
      "name": "python",
      "nbconvert_exporter": "python",
      "pygments_lexer": "ipython3",
      "version": "3.7.3"
    },
    "colab": {
      "name": "Concrete Strength Assignment.ipynb",
      "provenance": [],
      "collapsed_sections": [],
      "toc_visible": true
    }
  },
  "cells": [
    {
      "cell_type": "markdown",
      "metadata": {
        "id": "jDmqg98HK8HB"
      },
      "source": [
        "# Assignment: Compresive Strength Concrete Problem\n",
        "\n",
        "\n",
        "### Abstract: \n",
        "\n",
        "Concrete is the most important material in civil engineering. The concrete compressive strength (concrete strength to bear the load) is a highly nonlinear function of age and ingredients.  <br><br>\n",
        "\n",
        "<table border=\"1\"  cellpadding=\"6\" bordercolor=\"red\">\n",
        "\t<tbody>\n",
        "        <tr>\n",
        "\t\t<td bgcolor=\"#DDEEFF\"><p class=\"normal\"><b>Data Set Characteristics:&nbsp;&nbsp;</b></p></td>\n",
        "\t\t<td><p class=\"normal\">Multivariate</p></td>\n",
        "\t\t<td bgcolor=\"#DDEEFF\"><p class=\"normal\"><b>Number of Instances:</b></p></td>\n",
        "\t\t<td><p class=\"normal\">1030</p></td>\n",
        "\t\t<td bgcolor=\"#DDEEFF\"><p class=\"normal\"><b>Area:</b></p></td>\n",
        "\t\t<td><p class=\"normal\">Physical</p></td>\n",
        "        </tr>\n",
        "     </tbody>\n",
        "    </table>\n",
        "<table border=\"1\" cellpadding=\"6\">\n",
        "    <tbody>\n",
        "        <tr>\n",
        "            <td bgcolor=\"#DDEEFF\"><p class=\"normal\"><b>Attribute Characteristics:</b></p></td>\n",
        "            <td><p class=\"normal\">Real</p></td>\n",
        "            <td bgcolor=\"#DDEEFF\"><p class=\"normal\"><b>Number of Attributes:</b></p></td>\n",
        "            <td><p class=\"normal\">9</p></td>\n",
        "            <td bgcolor=\"#DDEEFF\"><p class=\"normal\"><b>Date Donated</b></p></td>\n",
        "            <td><p class=\"normal\">2007-08-03</p></td>\n",
        "        </tr>\n",
        "     </tbody>\n",
        "    </table>\n",
        "<table border=\"1\" cellpadding=\"6\">\t\n",
        "    <tbody>\n",
        "    <tr>\n",
        "\t\t<td bgcolor=\"#DDEEFF\"><p class=\"normal\"><b>Associated Tasks:</b></p></td>\n",
        "\t\t<td><p class=\"normal\">Regression</p></td>\n",
        "\t\t<td bgcolor=\"#DDEEFF\"><p class=\"normal\"><b>Missing Values?</b></p></td>\n",
        "\t\t<td><p class=\"normal\">N/A</p></td>\n",
        "\t\t<td bgcolor=\"#DDEEFF\"><p class=\"normal\"><b>Number of Web Hits:</b></p></td>\n",
        "\t\t<td><p class=\"normal\">231464</p></td>\n",
        "\t</tr>\n",
        "    </tbody>\n",
        "    </table>"
      ]
    },
    {
      "cell_type": "markdown",
      "metadata": {
        "id": "HP9L0usXK8HT"
      },
      "source": [
        "###  Description:\n",
        "| Features Name | Data Type | Measurement | Description |\n",
        "| -- | -- | -- | -- |\n",
        "Cement (component 1) | quantitative | kg in a m3 mixture | Input Variable\n",
        "Blast Furnace Slag (component 2) | quantitative | kg in a m3 mixture | Input Variable\n",
        "Fly Ash (component 3) | quantitative | kg in a m3 mixture | Input Variable\n",
        "Water (component 4) | quantitative | kg in a m3 mixture | Input Variable\n",
        "Superplasticizer (component 5) | quantitative | kg in a m3 mixture | Input Variable\n",
        "Coarse Aggregate (component 6) | quantitative | kg in a m3 mixture | Input Variable\n",
        "Fine Aggregate (component 7) | quantitative | kg in a m3 mixture | Input Variable\n",
        "Age | quantitative | Day (1~365) | Input Variable\n",
        "Concrete compressive strength | quantitative | MPa | Output Variable\n",
        "\n",
        "### WORKFLOW :\n",
        "- Load Data\n",
        "- Check Missing Values ( If Exist ; Fill each record with mean of its feature )\n",
        "- Standardized the Input Variables. **Hint**: Centeralized the data\n",
        "- Split into 50% Training(Samples,Labels) , 30% Test(Samples,Labels) and 20% Validation Data(Samples,Labels).\n",
        "- Model : input Layer (No. of features ), 3 hidden layers including 10,8,6 unit & Output Layer with activation function relu/tanh (check by experiment).\n",
        "- Compilation Step (Note : Its a Regression problem , select loss , metrics according to it)\n",
        "- Train the Model with Epochs (100) and validate it\n",
        "- If the model gets overfit tune your model by changing the units , No. of layers , activation function , epochs , add dropout layer or add Regularizer according to the need .\n",
        "- Evaluation Step\n",
        "- Prediction\n"
      ]
    },
    {
      "cell_type": "markdown",
      "metadata": {
        "id": "CQxAe6gOK8HV"
      },
      "source": [
        "# Load Data:\n",
        "[Click Here to Download DataSet](https://github.com/ramsha275/ML_Datasets/blob/main/compresive_strength_concrete.csv)"
      ]
    },
    {
      "cell_type": "code",
      "metadata": {
        "id": "8ERUKHzIgQIG"
      },
      "source": [
        "! pip install -q kaggle"
      ],
      "execution_count": 1,
      "outputs": []
    },
    {
      "cell_type": "code",
      "metadata": {
        "colab": {
          "resources": {
            "http://localhost:8080/nbextensions/google.colab/files.js": {
              "data": "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",
              "ok": true,
              "headers": [
                [
                  "content-type",
                  "application/javascript"
                ]
              ],
              "status": 200,
              "status_text": ""
            }
          },
          "base_uri": "https://localhost:8080/",
          "height": 91
        },
        "id": "Jnw2dWMVgQLG",
        "outputId": "1d0a5ea8-44be-42fe-8e44-b6c6e1c82e30"
      },
      "source": [
        "from google.colab import files\n",
        "files.upload()"
      ],
      "execution_count": 2,
      "outputs": [
        {
          "output_type": "display_data",
          "data": {
            "text/html": [
              "\n",
              "     <input type=\"file\" id=\"files-ec0a24ef-6bb7-430c-ac90-9631944b12ae\" name=\"files[]\" multiple disabled\n",
              "        style=\"border:none\" />\n",
              "     <output id=\"result-ec0a24ef-6bb7-430c-ac90-9631944b12ae\">\n",
              "      Upload widget is only available when the cell has been executed in the\n",
              "      current browser session. Please rerun this cell to enable.\n",
              "      </output>\n",
              "      <script src=\"/nbextensions/google.colab/files.js\"></script> "
            ],
            "text/plain": [
              "<IPython.core.display.HTML object>"
            ]
          },
          "metadata": {
            "tags": []
          }
        },
        {
          "output_type": "stream",
          "text": [
            "Saving kaggle.json to kaggle.json\n"
          ],
          "name": "stdout"
        },
        {
          "output_type": "execute_result",
          "data": {
            "text/plain": [
              "{'kaggle.json': b'{\"username\":\"kamrannaseer\",\"key\":\"86bfee909777b6a9a32c48d76ca589d5\"}'}"
            ]
          },
          "metadata": {
            "tags": []
          },
          "execution_count": 2
        }
      ]
    },
    {
      "cell_type": "code",
      "metadata": {
        "id": "nvr8bGKcgQON"
      },
      "source": [
        "! mkdir ~/.kaggle"
      ],
      "execution_count": 3,
      "outputs": []
    },
    {
      "cell_type": "code",
      "metadata": {
        "id": "-lajJFjrgQRQ"
      },
      "source": [
        "! cp kaggle.json ~/.kaggle/"
      ],
      "execution_count": 4,
      "outputs": []
    },
    {
      "cell_type": "code",
      "metadata": {
        "id": "EWZ2to2vgQUK"
      },
      "source": [
        "! chmod 600 ~/.kaggle/kaggle.json"
      ],
      "execution_count": 5,
      "outputs": []
    },
    {
      "cell_type": "code",
      "metadata": {
        "id": "3JDFjoQzhIDF",
        "colab": {
          "base_uri": "https://localhost:8080/"
        },
        "outputId": "0f2fe820-fbc8-4f87-900d-07fcb2005e3b"
      },
      "source": [
        "!kaggle datasets download -d codeaesthete/compressive-strength-of-concrete"
      ],
      "execution_count": 6,
      "outputs": [
        {
          "output_type": "stream",
          "text": [
            "Downloading compressive-strength-of-concrete.zip to /content\n",
            "\r  0% 0.00/11.2k [00:00<?, ?B/s]\n",
            "\r100% 11.2k/11.2k [00:00<00:00, 19.2MB/s]\n"
          ],
          "name": "stdout"
        }
      ]
    },
    {
      "cell_type": "code",
      "metadata": {
        "id": "FtIya4cVAi8s"
      },
      "source": [
        "!mkdir compressive-strength-of-concrete"
      ],
      "execution_count": 7,
      "outputs": []
    },
    {
      "cell_type": "code",
      "metadata": {
        "id": "KBH2kjiag2f2",
        "colab": {
          "base_uri": "https://localhost:8080/"
        },
        "outputId": "45992110-d5c3-479c-8a88-e354f8dc3966"
      },
      "source": [
        "! unzip compressive-strength-of-concrete.zip -d compressive-strength-of-concrete"
      ],
      "execution_count": 8,
      "outputs": [
        {
          "output_type": "stream",
          "text": [
            "Archive:  compressive-strength-of-concrete.zip\n",
            "  inflating: compressive-strength-of-concrete/compresive_strength_concrete.csv  \n"
          ],
          "name": "stdout"
        }
      ]
    },
    {
      "cell_type": "code",
      "metadata": {
        "id": "aVRrSf9O2Gee"
      },
      "source": [
        "import pandas as pd\n",
        "import numpy as np\n",
        "import tensorflow as tf\n",
        "import seaborn as sns\n",
        "import matplotlib.pyplot as plt\n",
        "import os\n",
        "from sklearn.preprocessing import LabelEncoder\n",
        "import scipy\n",
        "from sklearn.model_selection import KFold, train_test_split, cross_val_score\n",
        "from tensorflow.keras.models import Sequential, Model\n",
        "from tensorflow.keras.layers import Dense, Flatten, Dropout\n",
        "from tensorflow.keras.optimizers import Adam, RMSprop\n",
        "from sklearn.metrics import classification_report, confusion_matrix, accuracy_score, mean_squared_error\n",
        "import seaborn as sns\n",
        "import matplotlib.pyplot as plt\n",
        "from keras.wrappers.scikit_learn import KerasRegressor"
      ],
      "execution_count": 9,
      "outputs": []
    },
    {
      "cell_type": "code",
      "metadata": {
        "colab": {
          "base_uri": "https://localhost:8080/",
          "height": 246
        },
        "id": "UZ4mpAUqMwrf",
        "outputId": "a70ad875-b271-4d95-9a42-e0ab4e46c6dd"
      },
      "source": [
        "data = pd.read_csv(\"/content/compressive-strength-of-concrete/compresive_strength_concrete.csv\")\n",
        "data.head()"
      ],
      "execution_count": 158,
      "outputs": [
        {
          "output_type": "execute_result",
          "data": {
            "text/html": [
              "<div>\n",
              "<style scoped>\n",
              "    .dataframe tbody tr th:only-of-type {\n",
              "        vertical-align: middle;\n",
              "    }\n",
              "\n",
              "    .dataframe tbody tr th {\n",
              "        vertical-align: top;\n",
              "    }\n",
              "\n",
              "    .dataframe thead th {\n",
              "        text-align: right;\n",
              "    }\n",
              "</style>\n",
              "<table border=\"1\" class=\"dataframe\">\n",
              "  <thead>\n",
              "    <tr style=\"text-align: right;\">\n",
              "      <th></th>\n",
              "      <th>Cement (component 1)(kg in a m^3 mixture)</th>\n",
              "      <th>Blast Furnace Slag (component 2)(kg in a m^3 mixture)</th>\n",
              "      <th>Fly Ash (component 3)(kg in a m^3 mixture)</th>\n",
              "      <th>Water  (component 4)(kg in a m^3 mixture)</th>\n",
              "      <th>Superplasticizer (component 5)(kg in a m^3 mixture)</th>\n",
              "      <th>Coarse Aggregate  (component 6)(kg in a m^3 mixture)</th>\n",
              "      <th>Fine Aggregate (component 7)(kg in a m^3 mixture)</th>\n",
              "      <th>Age (day)</th>\n",
              "      <th>Concrete compressive strength(MPa, megapascals)</th>\n",
              "    </tr>\n",
              "  </thead>\n",
              "  <tbody>\n",
              "    <tr>\n",
              "      <th>0</th>\n",
              "      <td>540.0</td>\n",
              "      <td>0.0</td>\n",
              "      <td>0.0</td>\n",
              "      <td>162.0</td>\n",
              "      <td>2.5</td>\n",
              "      <td>1040.0</td>\n",
              "      <td>676.0</td>\n",
              "      <td>28</td>\n",
              "      <td>79.99</td>\n",
              "    </tr>\n",
              "    <tr>\n",
              "      <th>1</th>\n",
              "      <td>540.0</td>\n",
              "      <td>0.0</td>\n",
              "      <td>0.0</td>\n",
              "      <td>162.0</td>\n",
              "      <td>2.5</td>\n",
              "      <td>1055.0</td>\n",
              "      <td>676.0</td>\n",
              "      <td>28</td>\n",
              "      <td>61.89</td>\n",
              "    </tr>\n",
              "    <tr>\n",
              "      <th>2</th>\n",
              "      <td>332.5</td>\n",
              "      <td>142.5</td>\n",
              "      <td>0.0</td>\n",
              "      <td>228.0</td>\n",
              "      <td>0.0</td>\n",
              "      <td>932.0</td>\n",
              "      <td>594.0</td>\n",
              "      <td>270</td>\n",
              "      <td>40.27</td>\n",
              "    </tr>\n",
              "    <tr>\n",
              "      <th>3</th>\n",
              "      <td>332.5</td>\n",
              "      <td>142.5</td>\n",
              "      <td>0.0</td>\n",
              "      <td>228.0</td>\n",
              "      <td>0.0</td>\n",
              "      <td>932.0</td>\n",
              "      <td>594.0</td>\n",
              "      <td>365</td>\n",
              "      <td>41.05</td>\n",
              "    </tr>\n",
              "    <tr>\n",
              "      <th>4</th>\n",
              "      <td>198.6</td>\n",
              "      <td>132.4</td>\n",
              "      <td>0.0</td>\n",
              "      <td>192.0</td>\n",
              "      <td>0.0</td>\n",
              "      <td>978.4</td>\n",
              "      <td>825.5</td>\n",
              "      <td>360</td>\n",
              "      <td>44.30</td>\n",
              "    </tr>\n",
              "  </tbody>\n",
              "</table>\n",
              "</div>"
            ],
            "text/plain": [
              "   Cement (component 1)(kg in a m^3 mixture)  ...  Concrete compressive strength(MPa, megapascals) \n",
              "0                                      540.0  ...                                             79.99\n",
              "1                                      540.0  ...                                             61.89\n",
              "2                                      332.5  ...                                             40.27\n",
              "3                                      332.5  ...                                             41.05\n",
              "4                                      198.6  ...                                             44.30\n",
              "\n",
              "[5 rows x 9 columns]"
            ]
          },
          "metadata": {
            "tags": []
          },
          "execution_count": 158
        }
      ]
    },
    {
      "cell_type": "code",
      "metadata": {
        "colab": {
          "base_uri": "https://localhost:8080/"
        },
        "id": "Rqlk3nFlMwrf",
        "outputId": "f4ac7583-7eeb-41cf-8b2e-469110dbe981"
      },
      "source": [
        "data.shape"
      ],
      "execution_count": 136,
      "outputs": [
        {
          "output_type": "execute_result",
          "data": {
            "text/plain": [
              "(1030, 9)"
            ]
          },
          "metadata": {
            "tags": []
          },
          "execution_count": 136
        }
      ]
    },
    {
      "cell_type": "code",
      "metadata": {
        "colab": {
          "base_uri": "https://localhost:8080/"
        },
        "id": "4jmnmfejQuq2",
        "outputId": "8c6d63ae-7a2c-4e2e-caf2-61f0005f7e6a"
      },
      "source": [
        "int(data.shape[0]/6)"
      ],
      "execution_count": 133,
      "outputs": [
        {
          "output_type": "execute_result",
          "data": {
            "text/plain": [
              "171"
            ]
          },
          "metadata": {
            "tags": []
          },
          "execution_count": 133
        }
      ]
    },
    {
      "cell_type": "code",
      "metadata": {
        "colab": {
          "base_uri": "https://localhost:8080/"
        },
        "id": "3r_wEMD3Mwrg",
        "outputId": "5dec2f98-a1e5-45e9-ea3d-eef87777ebbb"
      },
      "source": [
        "data.info()"
      ],
      "execution_count": 154,
      "outputs": [
        {
          "output_type": "stream",
          "text": [
            "<class 'pandas.core.frame.DataFrame'>\n",
            "RangeIndex: 1030 entries, 0 to 1029\n",
            "Data columns (total 9 columns):\n",
            " #   Column                                                 Non-Null Count  Dtype  \n",
            "---  ------                                                 --------------  -----  \n",
            " 0   Age (day)                                              1030 non-null   float64\n",
            " 1   Cement (component 1)(kg in a m^3 mixture)              1030 non-null   float64\n",
            " 2   Blast Furnace Slag (component 2)(kg in a m^3 mixture)  1030 non-null   float64\n",
            " 3   Fly Ash (component 3)(kg in a m^3 mixture)             1030 non-null   float64\n",
            " 4   Water  (component 4)(kg in a m^3 mixture)              1030 non-null   float64\n",
            " 5   Superplasticizer (component 5)(kg in a m^3 mixture)    1030 non-null   float64\n",
            " 6   Coarse Aggregate  (component 6)(kg in a m^3 mixture)   1030 non-null   float64\n",
            " 7   Fine Aggregate (component 7)(kg in a m^3 mixture)      1030 non-null   float64\n",
            " 8   Concrete compressive strength(MPa, megapascals)        1030 non-null   float64\n",
            "dtypes: float64(9)\n",
            "memory usage: 72.5 KB\n"
          ],
          "name": "stdout"
        }
      ]
    },
    {
      "cell_type": "code",
      "metadata": {
        "colab": {
          "base_uri": "https://localhost:8080/"
        },
        "id": "TEd20kulL-MM",
        "outputId": "7468d770-b0d3-4afd-9929-6491e109a6df"
      },
      "source": [
        "data.isnull().sum()"
      ],
      "execution_count": 155,
      "outputs": [
        {
          "output_type": "execute_result",
          "data": {
            "text/plain": [
              "Age (day)                                                0\n",
              "Cement (component 1)(kg in a m^3 mixture)                0\n",
              "Blast Furnace Slag (component 2)(kg in a m^3 mixture)    0\n",
              "Fly Ash (component 3)(kg in a m^3 mixture)               0\n",
              "Water  (component 4)(kg in a m^3 mixture)                0\n",
              "Superplasticizer (component 5)(kg in a m^3 mixture)      0\n",
              "Coarse Aggregate  (component 6)(kg in a m^3 mixture)     0\n",
              "Fine Aggregate (component 7)(kg in a m^3 mixture)        0\n",
              "Concrete compressive strength(MPa, megapascals)          0\n",
              "dtype: int64"
            ]
          },
          "metadata": {
            "tags": []
          },
          "execution_count": 155
        }
      ]
    },
    {
      "cell_type": "code",
      "metadata": {
        "id": "V1eFSesDMIZx"
      },
      "source": [
        "# data.drop([\"car_ID\"], axis=\"columns\", inplace=True)"
      ],
      "execution_count": 16,
      "outputs": []
    },
    {
      "cell_type": "code",
      "metadata": {
        "id": "AmJUTjSeMwrg"
      },
      "source": [
        "lb_make = LabelEncoder()"
      ],
      "execution_count": 159,
      "outputs": []
    },
    {
      "cell_type": "code",
      "metadata": {
        "id": "AMCE6UpZMwrh"
      },
      "source": [
        "# cate_df_object = data.select_dtypes(include=['object']).copy()\n",
        "# for i in cate_df_object:\n",
        "#   cate_df_object[i] = lb_make.fit_transform(cate_df_object[i])\n",
        "# cate_df_object.head()"
      ],
      "execution_count": 15,
      "outputs": []
    },
    {
      "cell_type": "code",
      "metadata": {
        "colab": {
          "base_uri": "https://localhost:8080/",
          "height": 195
        },
        "id": "ws6vzBxXMwrh",
        "outputId": "ac086330-333a-4100-8a18-5798fef28842"
      },
      "source": [
        "cate_df_int = data.select_dtypes(include=['int64']).copy()\n",
        "for i in cate_df_int:\n",
        "  cate_df_int[i]=(cate_df_int[i]-cate_df_int[i].min())/(cate_df_int[i].max()-cate_df_int[i].min())\n",
        "cate_df_int.head()"
      ],
      "execution_count": 160,
      "outputs": [
        {
          "output_type": "execute_result",
          "data": {
            "text/html": [
              "<div>\n",
              "<style scoped>\n",
              "    .dataframe tbody tr th:only-of-type {\n",
              "        vertical-align: middle;\n",
              "    }\n",
              "\n",
              "    .dataframe tbody tr th {\n",
              "        vertical-align: top;\n",
              "    }\n",
              "\n",
              "    .dataframe thead th {\n",
              "        text-align: right;\n",
              "    }\n",
              "</style>\n",
              "<table border=\"1\" class=\"dataframe\">\n",
              "  <thead>\n",
              "    <tr style=\"text-align: right;\">\n",
              "      <th></th>\n",
              "      <th>Age (day)</th>\n",
              "    </tr>\n",
              "  </thead>\n",
              "  <tbody>\n",
              "    <tr>\n",
              "      <th>0</th>\n",
              "      <td>0.074176</td>\n",
              "    </tr>\n",
              "    <tr>\n",
              "      <th>1</th>\n",
              "      <td>0.074176</td>\n",
              "    </tr>\n",
              "    <tr>\n",
              "      <th>2</th>\n",
              "      <td>0.739011</td>\n",
              "    </tr>\n",
              "    <tr>\n",
              "      <th>3</th>\n",
              "      <td>1.000000</td>\n",
              "    </tr>\n",
              "    <tr>\n",
              "      <th>4</th>\n",
              "      <td>0.986264</td>\n",
              "    </tr>\n",
              "  </tbody>\n",
              "</table>\n",
              "</div>"
            ],
            "text/plain": [
              "   Age (day)\n",
              "0   0.074176\n",
              "1   0.074176\n",
              "2   0.739011\n",
              "3   1.000000\n",
              "4   0.986264"
            ]
          },
          "metadata": {
            "tags": []
          },
          "execution_count": 160
        }
      ]
    },
    {
      "cell_type": "code",
      "metadata": {
        "colab": {
          "base_uri": "https://localhost:8080/",
          "height": 246
        },
        "id": "7d1-7urjPnA0",
        "outputId": "9c7a76ef-5f5d-469a-87a8-817456988cae"
      },
      "source": [
        "cate_df_float = data.select_dtypes(include=['float64']).copy()\n",
        "for i in cate_df_float:\n",
        "  cate_df_float[i]=(cate_df_float[i]-cate_df_float[i].min())/(cate_df_float[i].max()-cate_df_float[i].min())\n",
        "cate_df_float.head()"
      ],
      "execution_count": 161,
      "outputs": [
        {
          "output_type": "execute_result",
          "data": {
            "text/html": [
              "<div>\n",
              "<style scoped>\n",
              "    .dataframe tbody tr th:only-of-type {\n",
              "        vertical-align: middle;\n",
              "    }\n",
              "\n",
              "    .dataframe tbody tr th {\n",
              "        vertical-align: top;\n",
              "    }\n",
              "\n",
              "    .dataframe thead th {\n",
              "        text-align: right;\n",
              "    }\n",
              "</style>\n",
              "<table border=\"1\" class=\"dataframe\">\n",
              "  <thead>\n",
              "    <tr style=\"text-align: right;\">\n",
              "      <th></th>\n",
              "      <th>Cement (component 1)(kg in a m^3 mixture)</th>\n",
              "      <th>Blast Furnace Slag (component 2)(kg in a m^3 mixture)</th>\n",
              "      <th>Fly Ash (component 3)(kg in a m^3 mixture)</th>\n",
              "      <th>Water  (component 4)(kg in a m^3 mixture)</th>\n",
              "      <th>Superplasticizer (component 5)(kg in a m^3 mixture)</th>\n",
              "      <th>Coarse Aggregate  (component 6)(kg in a m^3 mixture)</th>\n",
              "      <th>Fine Aggregate (component 7)(kg in a m^3 mixture)</th>\n",
              "      <th>Concrete compressive strength(MPa, megapascals)</th>\n",
              "    </tr>\n",
              "  </thead>\n",
              "  <tbody>\n",
              "    <tr>\n",
              "      <th>0</th>\n",
              "      <td>1.000000</td>\n",
              "      <td>0.000000</td>\n",
              "      <td>0.0</td>\n",
              "      <td>0.321086</td>\n",
              "      <td>0.07764</td>\n",
              "      <td>0.694767</td>\n",
              "      <td>0.205720</td>\n",
              "      <td>0.967485</td>\n",
              "    </tr>\n",
              "    <tr>\n",
              "      <th>1</th>\n",
              "      <td>1.000000</td>\n",
              "      <td>0.000000</td>\n",
              "      <td>0.0</td>\n",
              "      <td>0.321086</td>\n",
              "      <td>0.07764</td>\n",
              "      <td>0.738372</td>\n",
              "      <td>0.205720</td>\n",
              "      <td>0.741996</td>\n",
              "    </tr>\n",
              "    <tr>\n",
              "      <th>2</th>\n",
              "      <td>0.526256</td>\n",
              "      <td>0.396494</td>\n",
              "      <td>0.0</td>\n",
              "      <td>0.848243</td>\n",
              "      <td>0.00000</td>\n",
              "      <td>0.380814</td>\n",
              "      <td>0.000000</td>\n",
              "      <td>0.472655</td>\n",
              "    </tr>\n",
              "    <tr>\n",
              "      <th>3</th>\n",
              "      <td>0.526256</td>\n",
              "      <td>0.396494</td>\n",
              "      <td>0.0</td>\n",
              "      <td>0.848243</td>\n",
              "      <td>0.00000</td>\n",
              "      <td>0.380814</td>\n",
              "      <td>0.000000</td>\n",
              "      <td>0.482372</td>\n",
              "    </tr>\n",
              "    <tr>\n",
              "      <th>4</th>\n",
              "      <td>0.220548</td>\n",
              "      <td>0.368392</td>\n",
              "      <td>0.0</td>\n",
              "      <td>0.560703</td>\n",
              "      <td>0.00000</td>\n",
              "      <td>0.515698</td>\n",
              "      <td>0.580783</td>\n",
              "      <td>0.522860</td>\n",
              "    </tr>\n",
              "  </tbody>\n",
              "</table>\n",
              "</div>"
            ],
            "text/plain": [
              "   Cement (component 1)(kg in a m^3 mixture)  ...  Concrete compressive strength(MPa, megapascals) \n",
              "0                                   1.000000  ...                                          0.967485\n",
              "1                                   1.000000  ...                                          0.741996\n",
              "2                                   0.526256  ...                                          0.472655\n",
              "3                                   0.526256  ...                                          0.482372\n",
              "4                                   0.220548  ...                                          0.522860\n",
              "\n",
              "[5 rows x 8 columns]"
            ]
          },
          "metadata": {
            "tags": []
          },
          "execution_count": 161
        }
      ]
    },
    {
      "cell_type": "code",
      "metadata": {
        "colab": {
          "base_uri": "https://localhost:8080/",
          "height": 246
        },
        "id": "7hixfIaGPnD1",
        "outputId": "eaf052bb-e551-4479-a7fa-21f251602a57"
      },
      "source": [
        "# data = cate_df_object.join(cate_df_int)\n",
        "data = cate_df_int.join(cate_df_float)\n",
        "data.head()"
      ],
      "execution_count": 162,
      "outputs": [
        {
          "output_type": "execute_result",
          "data": {
            "text/html": [
              "<div>\n",
              "<style scoped>\n",
              "    .dataframe tbody tr th:only-of-type {\n",
              "        vertical-align: middle;\n",
              "    }\n",
              "\n",
              "    .dataframe tbody tr th {\n",
              "        vertical-align: top;\n",
              "    }\n",
              "\n",
              "    .dataframe thead th {\n",
              "        text-align: right;\n",
              "    }\n",
              "</style>\n",
              "<table border=\"1\" class=\"dataframe\">\n",
              "  <thead>\n",
              "    <tr style=\"text-align: right;\">\n",
              "      <th></th>\n",
              "      <th>Age (day)</th>\n",
              "      <th>Cement (component 1)(kg in a m^3 mixture)</th>\n",
              "      <th>Blast Furnace Slag (component 2)(kg in a m^3 mixture)</th>\n",
              "      <th>Fly Ash (component 3)(kg in a m^3 mixture)</th>\n",
              "      <th>Water  (component 4)(kg in a m^3 mixture)</th>\n",
              "      <th>Superplasticizer (component 5)(kg in a m^3 mixture)</th>\n",
              "      <th>Coarse Aggregate  (component 6)(kg in a m^3 mixture)</th>\n",
              "      <th>Fine Aggregate (component 7)(kg in a m^3 mixture)</th>\n",
              "      <th>Concrete compressive strength(MPa, megapascals)</th>\n",
              "    </tr>\n",
              "  </thead>\n",
              "  <tbody>\n",
              "    <tr>\n",
              "      <th>0</th>\n",
              "      <td>0.074176</td>\n",
              "      <td>1.000000</td>\n",
              "      <td>0.000000</td>\n",
              "      <td>0.0</td>\n",
              "      <td>0.321086</td>\n",
              "      <td>0.07764</td>\n",
              "      <td>0.694767</td>\n",
              "      <td>0.205720</td>\n",
              "      <td>0.967485</td>\n",
              "    </tr>\n",
              "    <tr>\n",
              "      <th>1</th>\n",
              "      <td>0.074176</td>\n",
              "      <td>1.000000</td>\n",
              "      <td>0.000000</td>\n",
              "      <td>0.0</td>\n",
              "      <td>0.321086</td>\n",
              "      <td>0.07764</td>\n",
              "      <td>0.738372</td>\n",
              "      <td>0.205720</td>\n",
              "      <td>0.741996</td>\n",
              "    </tr>\n",
              "    <tr>\n",
              "      <th>2</th>\n",
              "      <td>0.739011</td>\n",
              "      <td>0.526256</td>\n",
              "      <td>0.396494</td>\n",
              "      <td>0.0</td>\n",
              "      <td>0.848243</td>\n",
              "      <td>0.00000</td>\n",
              "      <td>0.380814</td>\n",
              "      <td>0.000000</td>\n",
              "      <td>0.472655</td>\n",
              "    </tr>\n",
              "    <tr>\n",
              "      <th>3</th>\n",
              "      <td>1.000000</td>\n",
              "      <td>0.526256</td>\n",
              "      <td>0.396494</td>\n",
              "      <td>0.0</td>\n",
              "      <td>0.848243</td>\n",
              "      <td>0.00000</td>\n",
              "      <td>0.380814</td>\n",
              "      <td>0.000000</td>\n",
              "      <td>0.482372</td>\n",
              "    </tr>\n",
              "    <tr>\n",
              "      <th>4</th>\n",
              "      <td>0.986264</td>\n",
              "      <td>0.220548</td>\n",
              "      <td>0.368392</td>\n",
              "      <td>0.0</td>\n",
              "      <td>0.560703</td>\n",
              "      <td>0.00000</td>\n",
              "      <td>0.515698</td>\n",
              "      <td>0.580783</td>\n",
              "      <td>0.522860</td>\n",
              "    </tr>\n",
              "  </tbody>\n",
              "</table>\n",
              "</div>"
            ],
            "text/plain": [
              "   Age (day)  ...  Concrete compressive strength(MPa, megapascals) \n",
              "0   0.074176  ...                                          0.967485\n",
              "1   0.074176  ...                                          0.741996\n",
              "2   0.739011  ...                                          0.472655\n",
              "3   1.000000  ...                                          0.482372\n",
              "4   0.986264  ...                                          0.522860\n",
              "\n",
              "[5 rows x 9 columns]"
            ]
          },
          "metadata": {
            "tags": []
          },
          "execution_count": 162
        }
      ]
    },
    {
      "cell_type": "code",
      "metadata": {
        "colab": {
          "base_uri": "https://localhost:8080/"
        },
        "id": "YGbuRrXuMnQ8",
        "outputId": "f50a2fa0-89d8-4c01-ab73-078485381712"
      },
      "source": [
        "data.columns"
      ],
      "execution_count": 143,
      "outputs": [
        {
          "output_type": "execute_result",
          "data": {
            "text/plain": [
              "Index(['Age (day)', 'Cement (component 1)(kg in a m^3 mixture)',\n",
              "       'Blast Furnace Slag (component 2)(kg in a m^3 mixture)',\n",
              "       'Fly Ash (component 3)(kg in a m^3 mixture)',\n",
              "       'Water  (component 4)(kg in a m^3 mixture)',\n",
              "       'Superplasticizer (component 5)(kg in a m^3 mixture)',\n",
              "       'Coarse Aggregate  (component 6)(kg in a m^3 mixture)',\n",
              "       'Fine Aggregate (component 7)(kg in a m^3 mixture)',\n",
              "       'Concrete compressive strength(MPa, megapascals) '],\n",
              "      dtype='object')"
            ]
          },
          "metadata": {
            "tags": []
          },
          "execution_count": 143
        }
      ]
    },
    {
      "cell_type": "code",
      "metadata": {
        "id": "ILDfePE9PnHj"
      },
      "source": [
        "dependent_vars = data[\"Concrete compressive strength(MPa, megapascals) \"]"
      ],
      "execution_count": 163,
      "outputs": []
    },
    {
      "cell_type": "code",
      "metadata": {
        "colab": {
          "base_uri": "https://localhost:8080/"
        },
        "id": "MgQLKI9eZpFi",
        "outputId": "00a390ed-42e2-453e-b421-ee79c67f4659"
      },
      "source": [
        "dependent_vars"
      ],
      "execution_count": 145,
      "outputs": [
        {
          "output_type": "execute_result",
          "data": {
            "text/plain": [
              "0       0.967485\n",
              "1       0.741996\n",
              "2       0.472655\n",
              "3       0.482372\n",
              "4       0.522860\n",
              "          ...   \n",
              "1025    0.522611\n",
              "1026    0.359412\n",
              "1027    0.266226\n",
              "1028    0.379220\n",
              "1029    0.374611\n",
              "Name: Concrete compressive strength(MPa, megapascals) , Length: 1030, dtype: float64"
            ]
          },
          "metadata": {
            "tags": []
          },
          "execution_count": 145
        }
      ]
    },
    {
      "cell_type": "code",
      "metadata": {
        "id": "BLrSjKQMPnJi"
      },
      "source": [
        "independent_vars = data.drop(\"Concrete compressive strength(MPa, megapascals) \",axis=1)"
      ],
      "execution_count": 164,
      "outputs": []
    },
    {
      "cell_type": "code",
      "metadata": {
        "colab": {
          "base_uri": "https://localhost:8080/",
          "height": 452
        },
        "id": "6t-vPjR7Zoct",
        "outputId": "20fd8c65-7a5b-4907-c489-b04dfca9ea44"
      },
      "source": [
        "independent_vars"
      ],
      "execution_count": 147,
      "outputs": [
        {
          "output_type": "execute_result",
          "data": {
            "text/html": [
              "<div>\n",
              "<style scoped>\n",
              "    .dataframe tbody tr th:only-of-type {\n",
              "        vertical-align: middle;\n",
              "    }\n",
              "\n",
              "    .dataframe tbody tr th {\n",
              "        vertical-align: top;\n",
              "    }\n",
              "\n",
              "    .dataframe thead th {\n",
              "        text-align: right;\n",
              "    }\n",
              "</style>\n",
              "<table border=\"1\" class=\"dataframe\">\n",
              "  <thead>\n",
              "    <tr style=\"text-align: right;\">\n",
              "      <th></th>\n",
              "      <th>Age (day)</th>\n",
              "      <th>Cement (component 1)(kg in a m^3 mixture)</th>\n",
              "      <th>Blast Furnace Slag (component 2)(kg in a m^3 mixture)</th>\n",
              "      <th>Fly Ash (component 3)(kg in a m^3 mixture)</th>\n",
              "      <th>Water  (component 4)(kg in a m^3 mixture)</th>\n",
              "      <th>Superplasticizer (component 5)(kg in a m^3 mixture)</th>\n",
              "      <th>Coarse Aggregate  (component 6)(kg in a m^3 mixture)</th>\n",
              "      <th>Fine Aggregate (component 7)(kg in a m^3 mixture)</th>\n",
              "    </tr>\n",
              "  </thead>\n",
              "  <tbody>\n",
              "    <tr>\n",
              "      <th>0</th>\n",
              "      <td>0.074176</td>\n",
              "      <td>1.000000</td>\n",
              "      <td>0.000000</td>\n",
              "      <td>0.000000</td>\n",
              "      <td>0.321086</td>\n",
              "      <td>0.077640</td>\n",
              "      <td>0.694767</td>\n",
              "      <td>0.205720</td>\n",
              "    </tr>\n",
              "    <tr>\n",
              "      <th>1</th>\n",
              "      <td>0.074176</td>\n",
              "      <td>1.000000</td>\n",
              "      <td>0.000000</td>\n",
              "      <td>0.000000</td>\n",
              "      <td>0.321086</td>\n",
              "      <td>0.077640</td>\n",
              "      <td>0.738372</td>\n",
              "      <td>0.205720</td>\n",
              "    </tr>\n",
              "    <tr>\n",
              "      <th>2</th>\n",
              "      <td>0.739011</td>\n",
              "      <td>0.526256</td>\n",
              "      <td>0.396494</td>\n",
              "      <td>0.000000</td>\n",
              "      <td>0.848243</td>\n",
              "      <td>0.000000</td>\n",
              "      <td>0.380814</td>\n",
              "      <td>0.000000</td>\n",
              "    </tr>\n",
              "    <tr>\n",
              "      <th>3</th>\n",
              "      <td>1.000000</td>\n",
              "      <td>0.526256</td>\n",
              "      <td>0.396494</td>\n",
              "      <td>0.000000</td>\n",
              "      <td>0.848243</td>\n",
              "      <td>0.000000</td>\n",
              "      <td>0.380814</td>\n",
              "      <td>0.000000</td>\n",
              "    </tr>\n",
              "    <tr>\n",
              "      <th>4</th>\n",
              "      <td>0.986264</td>\n",
              "      <td>0.220548</td>\n",
              "      <td>0.368392</td>\n",
              "      <td>0.000000</td>\n",
              "      <td>0.560703</td>\n",
              "      <td>0.000000</td>\n",
              "      <td>0.515698</td>\n",
              "      <td>0.580783</td>\n",
              "    </tr>\n",
              "    <tr>\n",
              "      <th>...</th>\n",
              "      <td>...</td>\n",
              "      <td>...</td>\n",
              "      <td>...</td>\n",
              "      <td>...</td>\n",
              "      <td>...</td>\n",
              "      <td>...</td>\n",
              "      <td>...</td>\n",
              "      <td>...</td>\n",
              "    </tr>\n",
              "    <tr>\n",
              "      <th>1025</th>\n",
              "      <td>0.074176</td>\n",
              "      <td>0.398174</td>\n",
              "      <td>0.322760</td>\n",
              "      <td>0.451274</td>\n",
              "      <td>0.461661</td>\n",
              "      <td>0.276398</td>\n",
              "      <td>0.200872</td>\n",
              "      <td>0.437280</td>\n",
              "    </tr>\n",
              "    <tr>\n",
              "      <th>1026</th>\n",
              "      <td>0.074176</td>\n",
              "      <td>0.502740</td>\n",
              "      <td>0.000000</td>\n",
              "      <td>0.577711</td>\n",
              "      <td>0.592652</td>\n",
              "      <td>0.322981</td>\n",
              "      <td>0.049128</td>\n",
              "      <td>0.550426</td>\n",
              "    </tr>\n",
              "    <tr>\n",
              "      <th>1027</th>\n",
              "      <td>0.074176</td>\n",
              "      <td>0.106164</td>\n",
              "      <td>0.387869</td>\n",
              "      <td>0.542729</td>\n",
              "      <td>0.566294</td>\n",
              "      <td>0.189441</td>\n",
              "      <td>0.265698</td>\n",
              "      <td>0.466633</td>\n",
              "    </tr>\n",
              "    <tr>\n",
              "      <th>1028</th>\n",
              "      <td>0.074176</td>\n",
              "      <td>0.130365</td>\n",
              "      <td>0.519477</td>\n",
              "      <td>0.000000</td>\n",
              "      <td>0.429712</td>\n",
              "      <td>0.350932</td>\n",
              "      <td>0.548256</td>\n",
              "      <td>0.488961</td>\n",
              "    </tr>\n",
              "    <tr>\n",
              "      <th>1029</th>\n",
              "      <td>0.074176</td>\n",
              "      <td>0.362785</td>\n",
              "      <td>0.279633</td>\n",
              "      <td>0.391304</td>\n",
              "      <td>0.629393</td>\n",
              "      <td>0.267081</td>\n",
              "      <td>0.184593</td>\n",
              "      <td>0.420221</td>\n",
              "    </tr>\n",
              "  </tbody>\n",
              "</table>\n",
              "<p>1030 rows × 8 columns</p>\n",
              "</div>"
            ],
            "text/plain": [
              "      Age (day)  ...  Fine Aggregate (component 7)(kg in a m^3 mixture)\n",
              "0      0.074176  ...                                           0.205720\n",
              "1      0.074176  ...                                           0.205720\n",
              "2      0.739011  ...                                           0.000000\n",
              "3      1.000000  ...                                           0.000000\n",
              "4      0.986264  ...                                           0.580783\n",
              "...         ...  ...                                                ...\n",
              "1025   0.074176  ...                                           0.437280\n",
              "1026   0.074176  ...                                           0.550426\n",
              "1027   0.074176  ...                                           0.466633\n",
              "1028   0.074176  ...                                           0.488961\n",
              "1029   0.074176  ...                                           0.420221\n",
              "\n",
              "[1030 rows x 8 columns]"
            ]
          },
          "metadata": {
            "tags": []
          },
          "execution_count": 147
        }
      ]
    },
    {
      "cell_type": "code",
      "metadata": {
        "id": "I3L42XsOQgXH"
      },
      "source": [
        "X_train, X_test, y_train, y_test = train_test_split(independent_vars, dependent_vars, test_size=0.50)\n",
        "X_test, X_validation, y_test, y_validation = train_test_split(X_test, y_test, test_size=0.40)"
      ],
      "execution_count": 165,
      "outputs": []
    },
    {
      "cell_type": "code",
      "metadata": {
        "id": "lf-QkRU4Qgd2"
      },
      "source": [
        "model = Sequential()\n",
        "model.add(Dense(50, input_dim=independent_vars.shape[1], activation='relu'))\n",
        "model.add(Dense(25, activation='relu'))\n",
        "model.add(Dense(8, activation='relu'))\n",
        "model.add(Dense(1,))\n",
        "model.compile(loss='mse', optimizer='adam', metrics=[\"mae\"])"
      ],
      "execution_count": 172,
      "outputs": []
    },
    {
      "cell_type": "code",
      "metadata": {
        "colab": {
          "base_uri": "https://localhost:8080/"
        },
        "id": "P1DPL0csQgjE",
        "outputId": "85eabc0e-2219-4680-b23e-0c45b8314556"
      },
      "source": [
        "history = model.fit(X_train, y_train, epochs=70, verbose=1, validation_data=(X_validation, y_validation))"
      ],
      "execution_count": 173,
      "outputs": [
        {
          "output_type": "stream",
          "text": [
            "Epoch 1/70\n",
            "17/17 [==============================] - 1s 15ms/step - loss: 0.1691 - mae: 0.3534 - val_loss: 0.0777 - val_mae: 0.2100\n",
            "Epoch 2/70\n",
            "17/17 [==============================] - 0s 5ms/step - loss: 0.0577 - mae: 0.1860 - val_loss: 0.0525 - val_mae: 0.1912\n",
            "Epoch 3/70\n",
            "17/17 [==============================] - 0s 5ms/step - loss: 0.0386 - mae: 0.1581 - val_loss: 0.0472 - val_mae: 0.1817\n",
            "Epoch 4/70\n",
            "17/17 [==============================] - 0s 5ms/step - loss: 0.0359 - mae: 0.1502 - val_loss: 0.0399 - val_mae: 0.1629\n",
            "Epoch 5/70\n",
            "17/17 [==============================] - 0s 5ms/step - loss: 0.0314 - mae: 0.1379 - val_loss: 0.0339 - val_mae: 0.1531\n",
            "Epoch 6/70\n",
            "17/17 [==============================] - 0s 5ms/step - loss: 0.0242 - mae: 0.1253 - val_loss: 0.0280 - val_mae: 0.1415\n",
            "Epoch 7/70\n",
            "17/17 [==============================] - 0s 5ms/step - loss: 0.0196 - mae: 0.1125 - val_loss: 0.0224 - val_mae: 0.1236\n",
            "Epoch 8/70\n",
            "17/17 [==============================] - 0s 5ms/step - loss: 0.0203 - mae: 0.1137 - val_loss: 0.0209 - val_mae: 0.1186\n",
            "Epoch 9/70\n",
            "17/17 [==============================] - 0s 6ms/step - loss: 0.0157 - mae: 0.0999 - val_loss: 0.0202 - val_mae: 0.1171\n",
            "Epoch 10/70\n",
            "17/17 [==============================] - 0s 4ms/step - loss: 0.0194 - mae: 0.1129 - val_loss: 0.0198 - val_mae: 0.1131\n",
            "Epoch 11/70\n",
            "17/17 [==============================] - 0s 5ms/step - loss: 0.0173 - mae: 0.1051 - val_loss: 0.0196 - val_mae: 0.1145\n",
            "Epoch 12/70\n",
            "17/17 [==============================] - 0s 4ms/step - loss: 0.0161 - mae: 0.1001 - val_loss: 0.0190 - val_mae: 0.1126\n",
            "Epoch 13/70\n",
            "17/17 [==============================] - 0s 5ms/step - loss: 0.0133 - mae: 0.0910 - val_loss: 0.0193 - val_mae: 0.1134\n",
            "Epoch 14/70\n",
            "17/17 [==============================] - 0s 5ms/step - loss: 0.0157 - mae: 0.1004 - val_loss: 0.0172 - val_mae: 0.1049\n",
            "Epoch 15/70\n",
            "17/17 [==============================] - 0s 4ms/step - loss: 0.0143 - mae: 0.0934 - val_loss: 0.0179 - val_mae: 0.1069\n",
            "Epoch 16/70\n",
            "17/17 [==============================] - 0s 5ms/step - loss: 0.0138 - mae: 0.0917 - val_loss: 0.0157 - val_mae: 0.0990\n",
            "Epoch 17/70\n",
            "17/17 [==============================] - 0s 5ms/step - loss: 0.0139 - mae: 0.0942 - val_loss: 0.0155 - val_mae: 0.0983\n",
            "Epoch 18/70\n",
            "17/17 [==============================] - 0s 5ms/step - loss: 0.0121 - mae: 0.0848 - val_loss: 0.0166 - val_mae: 0.1021\n",
            "Epoch 19/70\n",
            "17/17 [==============================] - 0s 5ms/step - loss: 0.0134 - mae: 0.0883 - val_loss: 0.0158 - val_mae: 0.0993\n",
            "Epoch 20/70\n",
            "17/17 [==============================] - 0s 5ms/step - loss: 0.0128 - mae: 0.0884 - val_loss: 0.0147 - val_mae: 0.0926\n",
            "Epoch 21/70\n",
            "17/17 [==============================] - 0s 5ms/step - loss: 0.0121 - mae: 0.0842 - val_loss: 0.0140 - val_mae: 0.0922\n",
            "Epoch 22/70\n",
            "17/17 [==============================] - 0s 6ms/step - loss: 0.0113 - mae: 0.0810 - val_loss: 0.0141 - val_mae: 0.0930\n",
            "Epoch 23/70\n",
            "17/17 [==============================] - 0s 5ms/step - loss: 0.0117 - mae: 0.0808 - val_loss: 0.0134 - val_mae: 0.0897\n",
            "Epoch 24/70\n",
            "17/17 [==============================] - 0s 5ms/step - loss: 0.0102 - mae: 0.0766 - val_loss: 0.0127 - val_mae: 0.0870\n",
            "Epoch 25/70\n",
            "17/17 [==============================] - 0s 5ms/step - loss: 0.0107 - mae: 0.0782 - val_loss: 0.0122 - val_mae: 0.0839\n",
            "Epoch 26/70\n",
            "17/17 [==============================] - 0s 5ms/step - loss: 0.0099 - mae: 0.0765 - val_loss: 0.0138 - val_mae: 0.0927\n",
            "Epoch 27/70\n",
            "17/17 [==============================] - 0s 4ms/step - loss: 0.0085 - mae: 0.0713 - val_loss: 0.0130 - val_mae: 0.0895\n",
            "Epoch 28/70\n",
            "17/17 [==============================] - 0s 5ms/step - loss: 0.0088 - mae: 0.0721 - val_loss: 0.0117 - val_mae: 0.0853\n",
            "Epoch 29/70\n",
            "17/17 [==============================] - 0s 6ms/step - loss: 0.0093 - mae: 0.0751 - val_loss: 0.0100 - val_mae: 0.0767\n",
            "Epoch 30/70\n",
            "17/17 [==============================] - 0s 5ms/step - loss: 0.0082 - mae: 0.0685 - val_loss: 0.0100 - val_mae: 0.0773\n",
            "Epoch 31/70\n",
            "17/17 [==============================] - 0s 5ms/step - loss: 0.0073 - mae: 0.0663 - val_loss: 0.0096 - val_mae: 0.0757\n",
            "Epoch 32/70\n",
            "17/17 [==============================] - 0s 5ms/step - loss: 0.0079 - mae: 0.0692 - val_loss: 0.0092 - val_mae: 0.0724\n",
            "Epoch 33/70\n",
            "17/17 [==============================] - 0s 5ms/step - loss: 0.0076 - mae: 0.0678 - val_loss: 0.0112 - val_mae: 0.0842\n",
            "Epoch 34/70\n",
            "17/17 [==============================] - 0s 5ms/step - loss: 0.0064 - mae: 0.0632 - val_loss: 0.0089 - val_mae: 0.0716\n",
            "Epoch 35/70\n",
            "17/17 [==============================] - 0s 5ms/step - loss: 0.0060 - mae: 0.0610 - val_loss: 0.0100 - val_mae: 0.0778\n",
            "Epoch 36/70\n",
            "17/17 [==============================] - 0s 5ms/step - loss: 0.0071 - mae: 0.0665 - val_loss: 0.0091 - val_mae: 0.0737\n",
            "Epoch 37/70\n",
            "17/17 [==============================] - 0s 5ms/step - loss: 0.0067 - mae: 0.0643 - val_loss: 0.0083 - val_mae: 0.0682\n",
            "Epoch 38/70\n",
            "17/17 [==============================] - 0s 4ms/step - loss: 0.0063 - mae: 0.0608 - val_loss: 0.0085 - val_mae: 0.0700\n",
            "Epoch 39/70\n",
            "17/17 [==============================] - 0s 5ms/step - loss: 0.0057 - mae: 0.0582 - val_loss: 0.0087 - val_mae: 0.0721\n",
            "Epoch 40/70\n",
            "17/17 [==============================] - 0s 5ms/step - loss: 0.0051 - mae: 0.0570 - val_loss: 0.0085 - val_mae: 0.0703\n",
            "Epoch 41/70\n",
            "17/17 [==============================] - 0s 5ms/step - loss: 0.0054 - mae: 0.0576 - val_loss: 0.0081 - val_mae: 0.0677\n",
            "Epoch 42/70\n",
            "17/17 [==============================] - 0s 5ms/step - loss: 0.0064 - mae: 0.0615 - val_loss: 0.0082 - val_mae: 0.0690\n",
            "Epoch 43/70\n",
            "17/17 [==============================] - 0s 5ms/step - loss: 0.0053 - mae: 0.0562 - val_loss: 0.0082 - val_mae: 0.0679\n",
            "Epoch 44/70\n",
            "17/17 [==============================] - 0s 5ms/step - loss: 0.0049 - mae: 0.0537 - val_loss: 0.0090 - val_mae: 0.0742\n",
            "Epoch 45/70\n",
            "17/17 [==============================] - 0s 5ms/step - loss: 0.0058 - mae: 0.0595 - val_loss: 0.0089 - val_mae: 0.0704\n",
            "Epoch 46/70\n",
            "17/17 [==============================] - 0s 5ms/step - loss: 0.0062 - mae: 0.0629 - val_loss: 0.0083 - val_mae: 0.0688\n",
            "Epoch 47/70\n",
            "17/17 [==============================] - 0s 4ms/step - loss: 0.0053 - mae: 0.0574 - val_loss: 0.0080 - val_mae: 0.0665\n",
            "Epoch 48/70\n",
            "17/17 [==============================] - 0s 5ms/step - loss: 0.0050 - mae: 0.0551 - val_loss: 0.0078 - val_mae: 0.0664\n",
            "Epoch 49/70\n",
            "17/17 [==============================] - 0s 4ms/step - loss: 0.0047 - mae: 0.0525 - val_loss: 0.0082 - val_mae: 0.0681\n",
            "Epoch 50/70\n",
            "17/17 [==============================] - 0s 5ms/step - loss: 0.0053 - mae: 0.0564 - val_loss: 0.0091 - val_mae: 0.0755\n",
            "Epoch 51/70\n",
            "17/17 [==============================] - 0s 5ms/step - loss: 0.0052 - mae: 0.0562 - val_loss: 0.0080 - val_mae: 0.0686\n",
            "Epoch 52/70\n",
            "17/17 [==============================] - 0s 4ms/step - loss: 0.0046 - mae: 0.0518 - val_loss: 0.0079 - val_mae: 0.0674\n",
            "Epoch 53/70\n",
            "17/17 [==============================] - 0s 5ms/step - loss: 0.0047 - mae: 0.0525 - val_loss: 0.0090 - val_mae: 0.0748\n",
            "Epoch 54/70\n",
            "17/17 [==============================] - 0s 5ms/step - loss: 0.0049 - mae: 0.0543 - val_loss: 0.0076 - val_mae: 0.0643\n",
            "Epoch 55/70\n",
            "17/17 [==============================] - 0s 5ms/step - loss: 0.0045 - mae: 0.0520 - val_loss: 0.0099 - val_mae: 0.0802\n",
            "Epoch 56/70\n",
            "17/17 [==============================] - 0s 5ms/step - loss: 0.0067 - mae: 0.0652 - val_loss: 0.0084 - val_mae: 0.0688\n",
            "Epoch 57/70\n",
            "17/17 [==============================] - 0s 6ms/step - loss: 0.0056 - mae: 0.0563 - val_loss: 0.0082 - val_mae: 0.0683\n",
            "Epoch 58/70\n",
            "17/17 [==============================] - 0s 5ms/step - loss: 0.0048 - mae: 0.0546 - val_loss: 0.0078 - val_mae: 0.0658\n",
            "Epoch 59/70\n",
            "17/17 [==============================] - 0s 6ms/step - loss: 0.0044 - mae: 0.0497 - val_loss: 0.0075 - val_mae: 0.0646\n",
            "Epoch 60/70\n",
            "17/17 [==============================] - 0s 5ms/step - loss: 0.0044 - mae: 0.0511 - val_loss: 0.0078 - val_mae: 0.0650\n",
            "Epoch 61/70\n",
            "17/17 [==============================] - 0s 5ms/step - loss: 0.0060 - mae: 0.0599 - val_loss: 0.0092 - val_mae: 0.0765\n",
            "Epoch 62/70\n",
            "17/17 [==============================] - 0s 5ms/step - loss: 0.0065 - mae: 0.0651 - val_loss: 0.0094 - val_mae: 0.0740\n",
            "Epoch 63/70\n",
            "17/17 [==============================] - 0s 5ms/step - loss: 0.0079 - mae: 0.0749 - val_loss: 0.0087 - val_mae: 0.0689\n",
            "Epoch 64/70\n",
            "17/17 [==============================] - 0s 5ms/step - loss: 0.0061 - mae: 0.0603 - val_loss: 0.0079 - val_mae: 0.0677\n",
            "Epoch 65/70\n",
            "17/17 [==============================] - 0s 5ms/step - loss: 0.0044 - mae: 0.0530 - val_loss: 0.0078 - val_mae: 0.0665\n",
            "Epoch 66/70\n",
            "17/17 [==============================] - 0s 5ms/step - loss: 0.0040 - mae: 0.0477 - val_loss: 0.0077 - val_mae: 0.0665\n",
            "Epoch 67/70\n",
            "17/17 [==============================] - 0s 5ms/step - loss: 0.0044 - mae: 0.0496 - val_loss: 0.0077 - val_mae: 0.0642\n",
            "Epoch 68/70\n",
            "17/17 [==============================] - 0s 5ms/step - loss: 0.0043 - mae: 0.0497 - val_loss: 0.0081 - val_mae: 0.0689\n",
            "Epoch 69/70\n",
            "17/17 [==============================] - 0s 4ms/step - loss: 0.0050 - mae: 0.0553 - val_loss: 0.0081 - val_mae: 0.0680\n",
            "Epoch 70/70\n",
            "17/17 [==============================] - 0s 5ms/step - loss: 0.0045 - mae: 0.0497 - val_loss: 0.0076 - val_mae: 0.0653\n"
          ],
          "name": "stdout"
        }
      ]
    },
    {
      "cell_type": "code",
      "metadata": {
        "colab": {
          "base_uri": "https://localhost:8080/",
          "height": 295
        },
        "id": "2yk9VDZiRSR_",
        "outputId": "fa80e926-a002-45fc-ca38-2e6fffa63e1b"
      },
      "source": [
        "loss = history.history[\"loss\"]\n",
        "val_loss = history.history[\"val_loss\"]\n",
        "epochs = range(1, len(loss)+1)\n",
        "\n",
        "plt.plot(epochs, loss, \"bo\", label=\"Trainig Loss\")\n",
        "plt.plot(epochs, val_loss, \"b\", label=\"Validation Loss\")\n",
        "plt.title(\"Training and Validation Loss\")\n",
        "plt.xlabel(\"Epochs\")\n",
        "plt.ylabel(\"Loss\")\n",
        "plt.show()"
      ],
      "execution_count": 174,
      "outputs": [
        {
          "output_type": "display_data",
          "data": {
            "image/png": "[encoded data removed]",
            "text/plain": [
              "<Figure size 432x288 with 1 Axes>"
            ]
          },
          "metadata": {
            "tags": [],
            "needs_background": "light"
          }
        }
      ]
    },
    {
      "cell_type": "code",
      "metadata": {
        "colab": {
          "base_uri": "https://localhost:8080/",
          "height": 295
        },
        "id": "eD8NIXUfRSU3",
        "outputId": "05e448e3-9dde-4f4f-ea13-b227425dc6cd"
      },
      "source": [
        "accuracy = history.history[\"mae\"]\n",
        "val_accuracy = history.history[\"val_mae\"]\n",
        "epochs = range(1, len(accuracy)+1)\n",
        "\n",
        "plt.plot(epochs, accuracy, \"bo\", label=\"Trainig Accuracy\")\n",
        "plt.plot(epochs, val_accuracy, \"b\", label=\"Validation Accuracy\")\n",
        "plt.title(\"Training and Validation Accuracy\")\n",
        "plt.xlabel(\"Epochs\")\n",
        "plt.ylabel(\"Accuracy\")\n",
        "plt.show()"
      ],
      "execution_count": 175,
      "outputs": [
        {
          "output_type": "display_data",
          "data": {
            "image/png": "[encoded data removed]",
            "text/plain": [
              "<Figure size 432x288 with 1 Axes>"
            ]
          },
          "metadata": {
            "tags": [],
            "needs_background": "light"
          }
        }
      ]
    },
    {
      "cell_type": "code",
      "metadata": {
        "id": "u57vlbu-RSYP"
      },
      "source": [
        "y_pred = model.predict(X_test)"
      ],
      "execution_count": 176,
      "outputs": []
    },
    {
      "cell_type": "code",
      "metadata": {
        "colab": {
          "base_uri": "https://localhost:8080/"
        },
        "id": "zpfhezniiQW3",
        "outputId": "6b1b9340-da48-4f53-8ffd-281d1a2136d8"
      },
      "source": [
        "score = mean_squared_error(y_test, y_pred)\n",
        "score"
      ],
      "execution_count": 177,
      "outputs": [
        {
          "output_type": "execute_result",
          "data": {
            "text/plain": [
              "0.005726613497892655"
            ]
          },
          "metadata": {
            "tags": []
          },
          "execution_count": 177
        }
      ]
    },
    {
      "cell_type": "code",
      "metadata": {
        "colab": {
          "base_uri": "https://localhost:8080/"
        },
        "id": "_XmrYqpgbLwo",
        "outputId": "898f9396-7918-4319-cfa7-784fdaefd0a5"
      },
      "source": [
        "np.sqrt(score)"
      ],
      "execution_count": 178,
      "outputs": [
        {
          "output_type": "execute_result",
          "data": {
            "text/plain": [
              "0.07567439129515781"
            ]
          },
          "metadata": {
            "tags": []
          },
          "execution_count": 178
        }
      ]
    },
    {
      "cell_type": "code",
      "metadata": {
        "colab": {
          "base_uri": "https://localhost:8080/"
        },
        "id": "uiTqzc91K8HV",
        "outputId": "d307d544-4bdf-4acf-edb5-d5bd712d6632"
      },
      "source": [
        "print(model.evaluate(X_test,y_test))"
      ],
      "execution_count": 179,
      "outputs": [
        {
          "output_type": "stream",
          "text": [
            "10/10 [==============================] - 0s 2ms/step - loss: 0.0057 - mae: 0.0579\n",
            "[0.005726613570004702, 0.05794883146882057]\n"
          ],
          "name": "stdout"
        }
      ]
    },
    {
      "cell_type": "code",
      "metadata": {
        "id": "rmT02AQUYuCw"
      },
      "source": [
        ""
      ],
      "execution_count": null,
      "outputs": []
    },
    {
      "cell_type": "code",
      "metadata": {
        "id": "fRwpI9eIYuFG"
      },
      "source": [
        ""
      ],
      "execution_count": null,
      "outputs": []
    },
    {
      "cell_type": "code",
      "metadata": {
        "colab": {
          "base_uri": "https://localhost:8080/"
        },
        "id": "d4SNxhItYuIR",
        "outputId": "7e7ae515-f0b1-4e94-e89e-1c7a8d8c2722"
      },
      "source": [
        "score = []\n",
        "\n",
        "K_fold_no = 10\n",
        "K_fold_no_batch_size = int(data.shape[0]/K_fold_no)\n",
        "\n",
        "def make_model():\n",
        "  model = Sequential()\n",
        "  model.add(Dense(50, input_dim=independent_vars.shape[1], activation='relu'))\n",
        "  model.add(Dense(32, activation='relu'))\n",
        "  # model.add(Dense(12, activation='relu'))\n",
        "  model.add(Dense(1,))\n",
        "  model.compile(loss='mse', optimizer='adam', metrics=[\"mae\"])\n",
        "  return model\n",
        "\n",
        "for i in range(K_fold_no):\n",
        "\n",
        "  print(f\"KFOLD NO. {i}\")\n",
        "\n",
        "  X_test = independent_vars[i*K_fold_no_batch_size : (i+1)*K_fold_no_batch_size]\n",
        "  y_test = dependent_vars[i*K_fold_no_batch_size : (i+1)*K_fold_no_batch_size]\n",
        "\n",
        "  X_train = np.concatenate(\n",
        "      [independent_vars[:i*K_fold_no_batch_size],\n",
        "      independent_vars[(i+1)*K_fold_no_batch_size:]],\n",
        "      axis=0\n",
        "  )\n",
        "  y_train = np.concatenate(\n",
        "    [dependent_vars[:i*K_fold_no_batch_size],\n",
        "    dependent_vars[(i+1)*K_fold_no_batch_size:]],\n",
        "    axis=0\n",
        "  )\n",
        "\n",
        "  model = make_model()\n",
        "\n",
        "  model.fit(X_train, y_train, epochs=60, verbose=0)\n",
        "\n",
        "  mse, mae = model.evaluate(X_test,y_test)\n",
        "\n",
        "  score.append(mae)\n",
        "\n",
        "print(score)\n",
        "\n",
        "from statistics import mean\n",
        "\n",
        "print(\"Average of the score =\", round(mean(score), 2))"
      ],
      "execution_count": 189,
      "outputs": [
        {
          "output_type": "stream",
          "text": [
            "KFOLD NO. 0\n",
            "4/4 [==============================] - 0s 3ms/step - loss: 0.0177 - mae: 0.1099\n",
            "KFOLD NO. 1\n",
            "4/4 [==============================] - 0s 3ms/step - loss: 0.0128 - mae: 0.0886\n",
            "KFOLD NO. 2\n",
            "4/4 [==============================] - 0s 4ms/step - loss: 0.0064 - mae: 0.0572\n",
            "KFOLD NO. 3\n",
            "4/4 [==============================] - 0s 4ms/step - loss: 0.0138 - mae: 0.0850\n",
            "KFOLD NO. 4\n",
            "4/4 [==============================] - 0s 4ms/step - loss: 0.0112 - mae: 0.0848\n",
            "KFOLD NO. 5\n",
            "4/4 [==============================] - 0s 3ms/step - loss: 0.0080 - mae: 0.0681\n",
            "KFOLD NO. 6\n",
            "4/4 [==============================] - 0s 3ms/step - loss: 0.0031 - mae: 0.0408\n",
            "KFOLD NO. 7\n",
            "4/4 [==============================] - 0s 3ms/step - loss: 0.0056 - mae: 0.0502\n",
            "KFOLD NO. 8\n",
            "4/4 [==============================] - 0s 3ms/step - loss: 0.0053 - mae: 0.0598\n",
            "KFOLD NO. 9\n",
            "4/4 [==============================] - 0s 3ms/step - loss: 0.0063 - mae: 0.0636\n",
            "[0.10994255542755127, 0.08861587941646576, 0.057214949280023575, 0.0849786102771759, 0.0848451554775238, 0.06812145560979843, 0.04083557426929474, 0.05018017441034317, 0.05975063145160675, 0.0635954886674881]\n",
            "Average of the score = 0.07\n"
          ],
          "name": "stdout"
        }
      ]
    }
  ]
}