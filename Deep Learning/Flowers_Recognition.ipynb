{
  "nbformat": 4,
  "nbformat_minor": 0,
  "metadata": {
    "colab": {
      "name": "Flowers_Recognition.ipynb",
      "provenance": [],
      "collapsed_sections": []
    },
    "kernelspec": {
      "name": "python3",
      "display_name": "Python 3"
    },
    "accelerator": "GPU"
  },
  "cells": [
    {
      "cell_type": "markdown",
      "metadata": {
        "id": "BXgJ6uT1NydQ"
      },
      "source": [
        "Assignment: Flowers Recognition <br>\n",
        "Dataset Description:<br>\n",
        "\n",
        "This dataset contains 4242 images of flowers.<br>\n",
        "The data collection is based on the data flicr, google images, yandex images.<br>\n",
        "You can use this datastet to recognize plants from the photo.<br>\n",
        "\n",
        "Attribute Information:<br>\n",
        "The pictures are divided into five classes: chamomile, tulip, rose, sunflower, dandelion.<br>\n",
        "For each class there are about 800 photos. Photos are not high resolution, about 320x240 pixels. <br>\n",
        "<b>Also explore how to resize images in tensorflow and then resize all the images to a same size. </b> <br>\n",
        "This is a Multiclass Classification Problem.<br>\n",
        "\n",
        "\n"
      ]
    },
    {
      "cell_type": "markdown",
      "metadata": {
        "id": "T7vy-ktuOKJH"
      },
      "source": [
        "WORKFLOW : <br>\n",
        "Load Data <br>\n",
        "Split into 60 and 40 ratio.<br>\n",
        "Encode labels.<br>\n",
        "Create Model<br>\n",
        "Compilation Step (Note : Its a Multiclass Classification problem , select loss , metrics according to it)<br>\n",
        "Train the Model.<br>\n",
        "If the model gets overfit tune your model by changing the units , No. of layers , epochs , add dropout layer or add Regularizer according to the need .<br>\n",
        "Prediction should be > 85%<br>\n",
        "Evaluation Step<br>\n",
        "Prediction<br>\n",
        "\n",
        "\n"
      ]
    },
    {
      "cell_type": "markdown",
      "metadata": {
        "id": "ri3Bg5qfPRic"
      },
      "source": [
        "Data : <br>\n",
        "https://drive.google.com/file/d/1-OX6wn5gA-bJpjPNfSyaYQLz-A-AB_uj/view?usp=sharing"
      ]
    },
    {
      "cell_type": "code",
      "metadata": {
        "id": "8ERUKHzIgQIG"
      },
      "source": [
        "# ! pip install -q kaggle"
      ],
      "execution_count": 1,
      "outputs": []
    },
    {
      "cell_type": "code",
      "metadata": {
        "id": "Jnw2dWMVgQLG"
      },
      "source": [
        "# from google.colab import files\n",
        "# files.upload()"
      ],
      "execution_count": 2,
      "outputs": []
    },
    {
      "cell_type": "code",
      "metadata": {
        "id": "nvr8bGKcgQON"
      },
      "source": [
        "# ! mkdir ~/.kaggle"
      ],
      "execution_count": 3,
      "outputs": []
    },
    {
      "cell_type": "code",
      "metadata": {
        "id": "-lajJFjrgQRQ"
      },
      "source": [
        "# ! cp kaggle.json ~/.kaggle/"
      ],
      "execution_count": 4,
      "outputs": []
    },
    {
      "cell_type": "code",
      "metadata": {
        "id": "EWZ2to2vgQUK"
      },
      "source": [
        "# ! chmod 600 ~/.kaggle/kaggle.json"
      ],
      "execution_count": 5,
      "outputs": []
    },
    {
      "cell_type": "code",
      "metadata": {
        "id": "3JDFjoQzhIDF"
      },
      "source": [
        "# !kaggle datasets download -d alxmamaev/flowers-recognition"
      ],
      "execution_count": 6,
      "outputs": []
    },
    {
      "cell_type": "code",
      "metadata": {
        "id": "FtIya4cVAi8s"
      },
      "source": [
        "# !mkdir flowers-recognition"
      ],
      "execution_count": 7,
      "outputs": []
    },
    {
      "cell_type": "code",
      "metadata": {
        "id": "KBH2kjiag2f2"
      },
      "source": [
        "# ! unzip flowers-recognition.zip -d flowers-recognition"
      ],
      "execution_count": 8,
      "outputs": []
    },
    {
      "cell_type": "code",
      "metadata": {
        "id": "mIQ1hCd6XbxP"
      },
      "source": [
        ""
      ],
      "execution_count": 8,
      "outputs": []
    },
    {
      "cell_type": "code",
      "metadata": {
        "id": "pnZTGosBXb3_"
      },
      "source": [
        ""
      ],
      "execution_count": 8,
      "outputs": []
    },
    {
      "cell_type": "code",
      "metadata": {
        "id": "N-W74Fu4iCsQ"
      },
      "source": [
        "# Ignore  the warnings\n",
        "import warnings\n",
        "warnings.filterwarnings('always')\n",
        "warnings.filterwarnings('ignore')\n",
        "\n",
        "# data visualisation and manipulation\n",
        "import numpy as np\n",
        "import pandas as pd\n",
        "import matplotlib.pyplot as plt\n",
        "from matplotlib import style\n",
        "import seaborn as sns\n",
        " "
      ],
      "execution_count": 9,
      "outputs": []
    },
    {
      "cell_type": "code",
      "metadata": {
        "id": "o3RSudF6iCwl"
      },
      "source": [
        "#configure\n",
        "# sets matplotlib to inline and displays graphs below the corressponding cell.\n",
        "%matplotlib inline  \n",
        "style.use('fivethirtyeight')\n",
        "sns.set(style='whitegrid',color_codes=True)\n",
        "\n",
        "#model selection\n",
        "from sklearn.model_selection import train_test_split\n",
        "from sklearn.model_selection import KFold\n",
        "from sklearn.metrics import accuracy_score,precision_score,recall_score,confusion_matrix,roc_curve,roc_auc_score\n",
        "from sklearn.model_selection import GridSearchCV\n",
        "from sklearn.preprocessing import LabelEncoder\n"
      ],
      "execution_count": 10,
      "outputs": []
    },
    {
      "cell_type": "code",
      "metadata": {
        "id": "U_oVlE8CiC0H"
      },
      "source": [
        "#preprocess.\n",
        "from keras.preprocessing.image import ImageDataGenerator\n",
        "\n",
        "#dl libraraies\n",
        "from keras import backend as K\n",
        "from keras.models import Sequential\n",
        "from keras.layers import Dense\n",
        "from keras.optimizers import Adam,SGD,Adagrad,Adadelta,RMSprop\n",
        "from keras.utils import to_categorical\n",
        "\n",
        "# specifically for cnn\n",
        "from keras.layers import Dropout, Flatten,Activation\n",
        "from keras.layers import Conv2D, MaxPooling2D, BatchNormalization\n",
        " \n",
        "import tensorflow as tf\n",
        "import random as rn"
      ],
      "execution_count": 11,
      "outputs": []
    },
    {
      "cell_type": "code",
      "metadata": {
        "id": "3SfuneETiC4W"
      },
      "source": [
        "# specifically for manipulating zipped images and getting numpy arrays of pixel values of images.\n",
        "import cv2                  \n",
        "import numpy as np  \n",
        "from tqdm import tqdm\n",
        "import os                   \n",
        "from random import shuffle  \n",
        "from zipfile import ZipFile\n",
        "from PIL import Image"
      ],
      "execution_count": 12,
      "outputs": []
    },
    {
      "cell_type": "code",
      "metadata": {
        "id": "j1UswSG4Wu-r"
      },
      "source": [
        ""
      ],
      "execution_count": 12,
      "outputs": []
    },
    {
      "cell_type": "code",
      "metadata": {
        "id": "47qGPsGjiDhT"
      },
      "source": [
        "X=[]  # /content/Flowers Recognition/flowers/flowers\n",
        "Z=[]\n",
        "IMG_SIZE=240\n",
        "NUMBER_OF_IMAGES_YOU_WANTS_TO_USE = 700\n",
        "FLOWER_DAISY_DIR='/content/flowers-recognition/flowers/daisy'\n",
        "FLOWER_SUNFLOWER_DIR='/content/flowers-recognition/flowers/sunflower'\n",
        "FLOWER_TULIP_DIR='/content/flowers-recognition/flowers/tulip'\n",
        "FLOWER_DANDI_DIR='/content/flowers-recognition/flowers/dandelion'\n",
        "FLOWER_ROSE_DIR='/content/flowers-recognition/flowers/rose'"
      ],
      "execution_count": 13,
      "outputs": []
    },
    {
      "cell_type": "code",
      "metadata": {
        "id": "xzwswIZ1iDkj"
      },
      "source": [
        "def assign_label(img,flower_type):\n",
        "    return flower_type\n",
        "    "
      ],
      "execution_count": 14,
      "outputs": []
    },
    {
      "cell_type": "code",
      "metadata": {
        "id": "bmv8JQOCiDn2"
      },
      "source": [
        "def make_train_data(flower_type,DIR):\n",
        "    num = 0\n",
        "    for img in tqdm(os.listdir(DIR)):\n",
        "        num = num + 1\n",
        "        label=assign_label(img,flower_type)\n",
        "        path = os.path.join(DIR,img)\n",
        "        img = cv2.imread(path,cv2.IMREAD_COLOR)\n",
        "        substring = \".py\"\n",
        "        if substring not in path and num < NUMBER_OF_IMAGES_YOU_WANTS_TO_USE+1:\n",
        "          img = cv2.resize(img, (IMG_SIZE,IMG_SIZE))        \n",
        "          X.append(np.array(img))\n",
        "          Z.append(str(label))\n",
        "        else:\n",
        "          # print()\n",
        "          num = num\n",
        "\n",
        "        \n",
        "        \n",
        " "
      ],
      "execution_count": 15,
      "outputs": []
    },
    {
      "cell_type": "code",
      "metadata": {
        "id": "J9iV0Vl3iDrL",
        "colab": {
          "base_uri": "https://localhost:8080/"
        },
        "outputId": "600a374e-b4d3-4698-852e-f282e808b434"
      },
      "source": [
        "make_train_data('Daisy',FLOWER_DAISY_DIR)\n",
        "print(len(X))"
      ],
      "execution_count": 16,
      "outputs": [
        {
          "output_type": "stream",
          "text": [
            "100%|██████████| 769/769 [00:01<00:00, 395.77it/s]"
          ],
          "name": "stderr"
        },
        {
          "output_type": "stream",
          "text": [
            "700\n"
          ],
          "name": "stdout"
        },
        {
          "output_type": "stream",
          "text": [
            "\n"
          ],
          "name": "stderr"
        }
      ]
    },
    {
      "cell_type": "code",
      "metadata": {
        "id": "e7aooqWiiDuL",
        "colab": {
          "base_uri": "https://localhost:8080/"
        },
        "outputId": "290c71ac-86e3-45f7-f83e-0569632b5448"
      },
      "source": [
        "make_train_data('Sunflower',FLOWER_SUNFLOWER_DIR)\n",
        "print(len(X))"
      ],
      "execution_count": 17,
      "outputs": [
        {
          "output_type": "stream",
          "text": [
            "100%|██████████| 734/734 [00:02<00:00, 314.07it/s]"
          ],
          "name": "stderr"
        },
        {
          "output_type": "stream",
          "text": [
            "1400\n"
          ],
          "name": "stdout"
        },
        {
          "output_type": "stream",
          "text": [
            "\n"
          ],
          "name": "stderr"
        }
      ]
    },
    {
      "cell_type": "code",
      "metadata": {
        "id": "hP95z9EviDxU",
        "colab": {
          "base_uri": "https://localhost:8080/"
        },
        "outputId": "9a162b4c-9ee7-4fa2-d4c8-5c60926dc1e4"
      },
      "source": [
        "make_train_data('Tulip',FLOWER_TULIP_DIR)\n",
        "print(len(X))"
      ],
      "execution_count": 18,
      "outputs": [
        {
          "output_type": "stream",
          "text": [
            "100%|██████████| 984/984 [00:02<00:00, 361.34it/s]"
          ],
          "name": "stderr"
        },
        {
          "output_type": "stream",
          "text": [
            "2100\n"
          ],
          "name": "stdout"
        },
        {
          "output_type": "stream",
          "text": [
            "\n"
          ],
          "name": "stderr"
        }
      ]
    },
    {
      "cell_type": "code",
      "metadata": {
        "id": "pqIwmpAViD0x",
        "colab": {
          "base_uri": "https://localhost:8080/"
        },
        "outputId": "665f4524-4fed-4fe0-922b-4a00978e5554"
      },
      "source": [
        "make_train_data('Dandelion',FLOWER_DANDI_DIR)\n",
        "print(len(X))"
      ],
      "execution_count": 19,
      "outputs": [
        {
          "output_type": "stream",
          "text": [
            "100%|██████████| 1055/1055 [00:02<00:00, 375.39it/s]"
          ],
          "name": "stderr"
        },
        {
          "output_type": "stream",
          "text": [
            "2798\n"
          ],
          "name": "stdout"
        },
        {
          "output_type": "stream",
          "text": [
            "\n"
          ],
          "name": "stderr"
        }
      ]
    },
    {
      "cell_type": "code",
      "metadata": {
        "id": "naXSf7zNiD4L",
        "colab": {
          "base_uri": "https://localhost:8080/"
        },
        "outputId": "49e51e02-43fe-4baf-a64a-9330cf3ef2db"
      },
      "source": [
        "make_train_data('Rose',FLOWER_ROSE_DIR)\n",
        "print(len(X))"
      ],
      "execution_count": 20,
      "outputs": [
        {
          "output_type": "stream",
          "text": [
            "100%|██████████| 784/784 [00:02<00:00, 371.91it/s]"
          ],
          "name": "stderr"
        },
        {
          "output_type": "stream",
          "text": [
            "3498\n"
          ],
          "name": "stdout"
        },
        {
          "output_type": "stream",
          "text": [
            "\n"
          ],
          "name": "stderr"
        }
      ]
    },
    {
      "cell_type": "code",
      "metadata": {
        "id": "UK4366rriD6z"
      },
      "source": [
        "# fig,ax=plt.subplots(5,2)\n",
        "# fig.set_size_inches(15,15)\n",
        "# for i in range(5):\n",
        "#     for j in range (2):\n",
        "#         l=rn.randint(0,len(Z))\n",
        "#         ax[i,j].imshow(X[l])\n",
        "#         ax[i,j].set_title('Flower: '+Z[l])\n",
        "        \n",
        "# plt.tight_layout()"
      ],
      "execution_count": 21,
      "outputs": []
    },
    {
      "cell_type": "code",
      "metadata": {
        "id": "j4juoqohiD-9"
      },
      "source": [
        "le=LabelEncoder()\n",
        "Y=le.fit_transform(Z)\n",
        "Y=to_categorical(Y,5)\n",
        "X=np.array(X)\n",
        "X=X/255"
      ],
      "execution_count": 22,
      "outputs": []
    },
    {
      "cell_type": "code",
      "metadata": {
        "id": "UTxkk-LBiEBz"
      },
      "source": [
        "# x_train,x_test,y_train,y_test=train_test_split(X,Y,test_size=0.25,random_state=42)"
      ],
      "execution_count": 23,
      "outputs": []
    },
    {
      "cell_type": "code",
      "metadata": {
        "id": "7GtvHuhkp4cz"
      },
      "source": [
        "# X_train, X_test, y_train, y_test = train_test_split(X, Y, test_size=0.40,random_state=42)"
      ],
      "execution_count": 24,
      "outputs": []
    },
    {
      "cell_type": "code",
      "metadata": {
        "id": "O7OO-j3wCIno"
      },
      "source": [
        "X_train, X_test, y_train, y_test = train_test_split(X, Y, test_size=0.30,random_state=42)\n",
        "# X_test, X_validation, y_test, y_validation = train_test_split(X_test, y_test, test_size=0.40)\n",
        "X = 0\n",
        "Y = 0"
      ],
      "execution_count": 25,
      "outputs": []
    },
    {
      "cell_type": "code",
      "metadata": {
        "id": "_f5MkVRqDXeA"
      },
      "source": [
        "# print(X_train.shape)\n",
        "# print(y_train.shape)\n",
        "# print(X_test.shape)\n",
        "# print(y_test.shape)"
      ],
      "execution_count": 26,
      "outputs": []
    },
    {
      "cell_type": "code",
      "metadata": {
        "id": "ngoRyHOuCRDy"
      },
      "source": [
        "X_train = X_train.reshape((X_train.shape[0], IMG_SIZE*IMG_SIZE*3))\n",
        "X_test = X_test.reshape((X_test.shape[0], IMG_SIZE*IMG_SIZE*3))\n",
        "# X_validation = X_validation.reshape((X_validation.shape[0], IMG_SIZE*IMG_SIZE*3))"
      ],
      "execution_count": 27,
      "outputs": []
    },
    {
      "cell_type": "code",
      "metadata": {
        "id": "i306rvDuiEE9"
      },
      "source": [
        "np.random.seed(42)\n",
        "rn.seed(42)\n",
        "tf.random.set_seed(42)"
      ],
      "execution_count": 28,
      "outputs": []
    },
    {
      "cell_type": "code",
      "metadata": {
        "id": "r0OJLSa9WvGM"
      },
      "source": [
        "# print(X_train.shape)\n",
        "# print(y_train.shape)         NUMBER_OF_IMAGES_YOU_WANTS_TO_USE\n",
        "# print(X_test.shape)\n",
        "# print(y_test.shape)"
      ],
      "execution_count": 29,
      "outputs": []
    },
    {
      "cell_type": "code",
      "metadata": {
        "id": "lf-QkRU4Qgd2"
      },
      "source": [
        "model = Sequential()\n",
        "model.add(Dense(50, activation='relu', input_shape=(IMG_SIZE*IMG_SIZE*3,)))\n",
        "model.add(Dense(25, activation='relu'))\n",
        "# model.add(Dense(8, activation='relu'))\n",
        "model.add(Dense(5,activation='softmax'))\n",
        "model.compile(optimizer='adam', loss='categorical_crossentropy', metrics=[\"accuracy\"])"
      ],
      "execution_count": 42,
      "outputs": []
    },
    {
      "cell_type": "code",
      "metadata": {
        "colab": {
          "base_uri": "https://localhost:8080/"
        },
        "id": "P1DPL0csQgjE",
        "outputId": "3ce7f406-5189-42f5-a069-7639e574230e"
      },
      "source": [
        "# history = model.fit(X_train, y_train, epochs=50, verbose=1, batch_size=512, validation_data=(X_validation, y_validation))\n",
        "history = model.fit(X_train, y_train, epochs=25, verbose=1, batch_size=512)"
      ],
      "execution_count": 43,
      "outputs": [
        {
          "output_type": "stream",
          "text": [
            "Epoch 1/25\n",
            "5/5 [==============================] - 2s 158ms/step - loss: 12.6195 - accuracy: 0.2131\n",
            "Epoch 2/25\n",
            "5/5 [==============================] - 1s 184ms/step - loss: 14.3210 - accuracy: 0.2355\n",
            "Epoch 3/25\n",
            "5/5 [==============================] - 1s 159ms/step - loss: 9.7022 - accuracy: 0.2441\n",
            "Epoch 4/25\n",
            "5/5 [==============================] - 1s 140ms/step - loss: 7.3674 - accuracy: 0.2328\n",
            "Epoch 5/25\n",
            "5/5 [==============================] - 1s 137ms/step - loss: 4.7185 - accuracy: 0.3354\n",
            "Epoch 6/25\n",
            "5/5 [==============================] - 1s 175ms/step - loss: 2.9560 - accuracy: 0.3384\n",
            "Epoch 7/25\n",
            "5/5 [==============================] - 1s 152ms/step - loss: 2.4712 - accuracy: 0.4056\n",
            "Epoch 8/25\n",
            "5/5 [==============================] - 1s 171ms/step - loss: 2.0958 - accuracy: 0.4014\n",
            "Epoch 9/25\n",
            "5/5 [==============================] - 1s 184ms/step - loss: 1.6920 - accuracy: 0.4535\n",
            "Epoch 10/25\n",
            "5/5 [==============================] - 1s 139ms/step - loss: 1.5412 - accuracy: 0.4665\n",
            "Epoch 11/25\n",
            "5/5 [==============================] - 1s 166ms/step - loss: 1.5635 - accuracy: 0.4767\n",
            "Epoch 12/25\n",
            "5/5 [==============================] - 1s 155ms/step - loss: 1.3951 - accuracy: 0.4890\n",
            "Epoch 13/25\n",
            "5/5 [==============================] - 1s 140ms/step - loss: 1.5409 - accuracy: 0.4381\n",
            "Epoch 14/25\n",
            "5/5 [==============================] - 1s 170ms/step - loss: 1.2097 - accuracy: 0.5336\n",
            "Epoch 15/25\n",
            "5/5 [==============================] - 1s 190ms/step - loss: 1.2318 - accuracy: 0.5391\n",
            "Epoch 16/25\n",
            "5/5 [==============================] - 1s 158ms/step - loss: 1.2608 - accuracy: 0.5178\n",
            "Epoch 17/25\n",
            "5/5 [==============================] - 1s 204ms/step - loss: 1.2608 - accuracy: 0.5194\n",
            "Epoch 18/25\n",
            "5/5 [==============================] - 1s 152ms/step - loss: 1.1736 - accuracy: 0.5422\n",
            "Epoch 19/25\n",
            "5/5 [==============================] - 1s 168ms/step - loss: 1.6079 - accuracy: 0.4447\n",
            "Epoch 20/25\n",
            "5/5 [==============================] - 1s 144ms/step - loss: 1.3545 - accuracy: 0.5074\n",
            "Epoch 21/25\n",
            "5/5 [==============================] - 1s 151ms/step - loss: 1.3347 - accuracy: 0.4974\n",
            "Epoch 22/25\n",
            "5/5 [==============================] - 1s 166ms/step - loss: 1.1321 - accuracy: 0.5610\n",
            "Epoch 23/25\n",
            "5/5 [==============================] - 1s 179ms/step - loss: 1.0832 - accuracy: 0.5687\n",
            "Epoch 24/25\n",
            "5/5 [==============================] - 1s 147ms/step - loss: 1.3287 - accuracy: 0.5184\n",
            "Epoch 25/25\n",
            "5/5 [==============================] - 1s 153ms/step - loss: 1.3958 - accuracy: 0.5204\n"
          ],
          "name": "stdout"
        }
      ]
    },
    {
      "cell_type": "code",
      "metadata": {
        "colab": {
          "base_uri": "https://localhost:8080/",
          "height": 317
        },
        "id": "2yk9VDZiRSR_",
        "outputId": "76b95183-1181-4998-dd26-201b5d51bcc8"
      },
      "source": [
        "loss = history.history[\"loss\"]\n",
        "# val_loss = history.history[\"val_loss\"]\n",
        "epochs = range(1, len(loss)+1)\n",
        "\n",
        "plt.plot(epochs, loss, \"bo\", label=\"Trainig Loss\")\n",
        "# plt.plot(epochs, val_loss, \"b\", label=\"Validation Loss\")\n",
        "plt.legend(loc='best')\n",
        "plt.title(\"Training and Validation Loss\")\n",
        "plt.xlabel(\"Epochs\")\n",
        "plt.ylabel(\"Loss\")\n",
        "plt.show()"
      ],
      "execution_count": 44,
      "outputs": [
        {
          "output_type": "display_data",
          "data": {
            "image/png": "[encoded data removed]",
            "text/plain": [
              "<Figure size 432x288 with 1 Axes>"
            ]
          },
          "metadata": {
            "tags": []
          }
        }
      ]
    },
    {
      "cell_type": "code",
      "metadata": {
        "colab": {
          "base_uri": "https://localhost:8080/",
          "height": 317
        },
        "id": "eD8NIXUfRSU3",
        "outputId": "08c41806-18ae-49a0-ecc8-33891aa1d71c"
      },
      "source": [
        "accuracy = history.history[\"accuracy\"]\n",
        "# val_accuracy = history.history[\"val_accuracy\"]\n",
        "epochs = range(1, len(accuracy)+1)\n",
        "\n",
        "plt.plot(epochs, accuracy, \"bo\", label=\"Trainig Accuracy\")\n",
        "# plt.plot(epochs, val_accuracy, \"b\", label=\"Validation Accuracy\")\n",
        "plt.legend(loc='best')\n",
        "plt.title(\"Training and Validation Accuracy\")\n",
        "plt.xlabel(\"Epochs\")\n",
        "plt.ylabel(\"Accuracy\")\n",
        "plt.show()"
      ],
      "execution_count": 45,
      "outputs": [
        {
          "output_type": "display_data",
          "data": {
            "image/png": "[encoded data removed]",
            "text/plain": [
              "<Figure size 432x288 with 1 Axes>"
            ]
          },
          "metadata": {
            "tags": []
          }
        }
      ]
    },
    {
      "cell_type": "code",
      "metadata": {
        "id": "u57vlbu-RSYP"
      },
      "source": [
        "# y_pred = model.predict(X_test)"
      ],
      "execution_count": 34,
      "outputs": []
    },
    {
      "cell_type": "code",
      "metadata": {
        "id": "X15rLP2Nbf5O"
      },
      "source": [
        "# predict_class = np.argmax(model.predict(X_test), axis=-1)\n",
        "# accuracy = accuracy_score(y_test, predict_class)\n",
        "# print(accuracy)"
      ],
      "execution_count": 35,
      "outputs": []
    },
    {
      "cell_type": "code",
      "metadata": {
        "id": "_9I-CgbQbf5P"
      },
      "source": [
        "# res = model.evaluate(X_test, y_test)\n",
        "# print(res)   \n",
        "# print(model.metrics_names)"
      ],
      "execution_count": 36,
      "outputs": []
    },
    {
      "cell_type": "code",
      "metadata": {
        "colab": {
          "base_uri": "https://localhost:8080/"
        },
        "id": "-mWce_xUqldx",
        "outputId": "e6490636-ec5d-4769-e2de-b5395697e6f4"
      },
      "source": [
        "res = model.evaluate(X_test, y_test)\n",
        "print(res)   \n",
        "print(model.metrics_names)"
      ],
      "execution_count": 46,
      "outputs": [
        {
          "output_type": "stream",
          "text": [
            "33/33 [==============================] - 1s 12ms/step - loss: 1.7920 - accuracy: 0.4467\n",
            "[1.7919570207595825, 0.4466666579246521]\n",
            "['loss', 'accuracy']\n"
          ],
          "name": "stdout"
        }
      ]
    },
    {
      "cell_type": "code",
      "metadata": {
        "id": "Ja0dofD6qlgW"
      },
      "source": [
        ""
      ],
      "execution_count": 37,
      "outputs": []
    },
    {
      "cell_type": "code",
      "metadata": {
        "id": "2-O_ruw6qljQ"
      },
      "source": [
        ""
      ],
      "execution_count": 37,
      "outputs": []
    },
    {
      "cell_type": "code",
      "metadata": {
        "id": "3sS6A7HJqlmE"
      },
      "source": [
        ""
      ],
      "execution_count": 37,
      "outputs": []
    },
    {
      "cell_type": "code",
      "metadata": {
        "id": "iJqLK3pfqlpJ"
      },
      "source": [
        ""
      ],
      "execution_count": 37,
      "outputs": []
    }
  ]
}